{
 "cells": [
  {
   "cell_type": "code",
   "execution_count": null,
   "metadata": {},
   "outputs": [],
   "source": [
    "import pandas as pd\n",
    "import numpy as np\n",
    "#import tiingo\n",
    "import requests\n"
   ]
  },
  {
   "cell_type": "markdown",
   "metadata": {},
   "source": [
    "#### Remove holdiays from timeseries"
   ]
  },
  {
   "cell_type": "code",
   "execution_count": null,
   "metadata": {},
   "outputs": [],
   "source": [
    "from pandas.tseries.holiday import USFederalHolidayCalendar as calendar\n",
    "cal = calendar()\n",
    "\n",
    "holidays = cal.holidays(start='2000-01-01',\n",
    "                        end='2030-12-30')\n",
    "\n",
    "holiday_df = pd.DataFrame(data=holidays,\n",
    "                          columns = ['date']).assign(holiday='USFederalHoliday')\n",
    "\n",
    "holiday_df.rename(columns={'date':'ds'},inplace=True)\n",
    "#holiday_df.to_csv('us_holidays_until_2030.csv')"
   ]
  },
  {
   "cell_type": "code",
   "execution_count": null,
   "metadata": {},
   "outputs": [],
   "source": [
    "### First we will get the 15min time intervals and calculate the 15min Moving averages (10 perido, 20 period, 50 period)\n",
    "### From the same data we will also calculate the 1d Moving averages (10 period, 20 period, 50 period) and\n",
    "### Append the indicators to the dataframe \n",
    "### Each iteration will run for a single ticker\n",
    "\n",
    "\n",
    "### The data extracts work in 0GMT => Exchange opens at 14:30 and closes at 21:00\n",
    "### Convert this to Sofia/New-York time if needed\n"
   ]
  },
  {
   "cell_type": "markdown",
   "metadata": {},
   "source": [
    "#### Connect to tiingo"
   ]
  },
  {
   "cell_type": "code",
   "execution_count": null,
   "metadata": {},
   "outputs": [],
   "source": [
    "# 15min to # 1h \n",
    "headers = {\n",
    "    'Content-Type': 'application/json'\n",
    "}\n",
    "requestResponse = requests.get(\"https://api.tiingo.com/iex/SPY/prices?startDate=2015-01-02&endDate=2022-12-31&resampleFreq=5min&columns=open,high,low,close,volume&token=0ed744c7db5ef348139953912e2f3cee79f4608b\", headers=headers)\n",
    "#print(requestResponse.json())"
   ]
  },
  {
   "cell_type": "code",
   "execution_count": null,
   "metadata": {},
   "outputs": [],
   "source": [
    "# # 15min to # 1h \n",
    "# headers = {\n",
    "#     'Content-Type': 'application/json'\n",
    "# }\n",
    "# requestResponse = requests.get(\"https://api.tiingo.com/tiingo/daily/BB/prices?startDate=2016-01-01&token=0ed744c7db5ef348139953912e2f3cee79f4608b\", headers=headers)\n",
    "# #print(requestResponse.json())"
   ]
  },
  {
   "cell_type": "code",
   "execution_count": null,
   "metadata": {},
   "outputs": [],
   "source": []
  },
  {
   "cell_type": "code",
   "execution_count": null,
   "metadata": {},
   "outputs": [],
   "source": []
  },
  {
   "cell_type": "code",
   "execution_count": null,
   "metadata": {},
   "outputs": [],
   "source": [
    "# ## The earliest Tiingo 5 min data starts from 2016-12-01 \n",
    "# ticker = 'SPY'\n",
    "\n",
    "# # Generate month_start and month end to use for looping over and getting data month by month\n",
    "# month_start_date  = pd.date_range(start='12/1/2016', end='12/1/2022', freq='MS').strftime('%Y-%m-%d')\n",
    "# month_end_date  = pd.date_range(start='12/1/2016', end='12/31/2022', freq='M').strftime('%Y-%m-%d')\n",
    "# print(\"the size of the monthly data is \" + str(month_end_date.size))\n",
    "\n",
    "\n",
    "# total_df = pd.DataFrame()\n",
    "# for x in range(month_start_date.size):\n",
    "#     month_start = month_start_date[x]\n",
    "#     month_end  = month_end_date[x]\n",
    "#     requestResponse = requests.get(\"https://api.tiingo.com/iex/\"+str(ticker)+\"/prices?startDate=\"+str(month_start)+\"&endDate=\"+str(month_end)+\"&resampleFreq=5min&columns=open,high,low,close,volume&token=0ed744c7db5ef348139953912e2f3cee79f4608b\", headers=headers)\n",
    "#     print(x) \n",
    "#     #print(\"https://api.tiingo.com/iex/SPY/prices?startDate=\"+str(month_start)+\"&endDate=\"+str(month_end)+\"&resampleFreq=5min&columns=open,high,low,close,volume&token=0ed744c7db5ef348139953912e2f3cee79f4608b\") \n",
    "#     df_stock = pd.DataFrame(requestResponse.json()) \n",
    "\n",
    "#     total_df = total_df.append(df_stock)\n",
    "\n",
    "# print('Data downloading ddone for the ticker '+str(ticker))\n",
    "# total_df.to_csv('spy_5_min_all_data.csv')"
   ]
  },
  {
   "cell_type": "code",
   "execution_count": null,
   "metadata": {},
   "outputs": [],
   "source": []
  },
  {
   "cell_type": "code",
   "execution_count": null,
   "metadata": {},
   "outputs": [],
   "source": []
  },
  {
   "cell_type": "code",
   "execution_count": null,
   "metadata": {},
   "outputs": [],
   "source": []
  },
  {
   "cell_type": "code",
   "execution_count": null,
   "metadata": {},
   "outputs": [],
   "source": [
    "# 15min to # 1h \n",
    "headers = {\n",
    "    'Content-Type': 'application/json'\n",
    "}\n",
    "requestResponse = requests.get(\"https://api.tiingo.com/iex/SPY/prices?startDate=2021-01-02&endDate=2021-02-01&resampleFreq=5min&columns=open,high,low,close,volume&token=0ed744c7db5ef348139953912e2f3cee79f4608b\", headers=headers)\n",
    "#print(requestResponse.json())"
   ]
  },
  {
   "cell_type": "code",
   "execution_count": null,
   "metadata": {},
   "outputs": [],
   "source": [
    "df_stock = pd.DataFrame(requestResponse.json()) \n",
    "df_stock"
   ]
  },
  {
   "cell_type": "code",
   "execution_count": null,
   "metadata": {},
   "outputs": [],
   "source": [
    "## This gets financial data\n",
    "#requestResponse = requests.get(\"https://api.tiingo.com/tiingo/fundamentals/msft/statements?token=0ed744c7db5ef348139953912e2f3cee79f4608b\", headers=headers)\n",
    "#print(requestResponse.json)"
   ]
  },
  {
   "cell_type": "code",
   "execution_count": null,
   "metadata": {},
   "outputs": [],
   "source": [
    "requestResponse"
   ]
  },
  {
   "cell_type": "code",
   "execution_count": null,
   "metadata": {},
   "outputs": [],
   "source": [
    "df_stock = pd.DataFrame(requestResponse.json()) "
   ]
  },
  {
   "cell_type": "code",
   "execution_count": null,
   "metadata": {},
   "outputs": [],
   "source": [
    "# ## Implement shitloads of historical data if want\n",
    "# total_df = pd.read_csv('spy_5_min_all_data.csv')\n",
    "# df_stock = total_df"
   ]
  },
  {
   "cell_type": "code",
   "execution_count": null,
   "metadata": {},
   "outputs": [],
   "source": [
    "df_stock"
   ]
  },
  {
   "cell_type": "code",
   "execution_count": null,
   "metadata": {},
   "outputs": [],
   "source": [
    "df_stock.date = pd.to_datetime(df_stock.date)"
   ]
  },
  {
   "cell_type": "code",
   "execution_count": null,
   "metadata": {},
   "outputs": [],
   "source": [
    "df_stock.date.dt.date"
   ]
  },
  {
   "cell_type": "code",
   "execution_count": null,
   "metadata": {},
   "outputs": [],
   "source": [
    "## Remove the US public holidays\n",
    "df_stock = df_stock[~df_stock.date.dt.date.isin(holiday_df.ds)]"
   ]
  },
  {
   "cell_type": "code",
   "execution_count": null,
   "metadata": {},
   "outputs": [],
   "source": [
    "df_stock.dtypes"
   ]
  },
  {
   "cell_type": "markdown",
   "metadata": {},
   "source": [
    "#### Prophet"
   ]
  },
  {
   "cell_type": "code",
   "execution_count": null,
   "metadata": {},
   "outputs": [],
   "source": [
    "from prophet import Prophet"
   ]
  },
  {
   "cell_type": "code",
   "execution_count": null,
   "metadata": {},
   "outputs": [],
   "source": [
    "df_stock.rename(columns={\"date\": \"ds\", \"close\": \"y\"},inplace=True)"
   ]
  },
  {
   "cell_type": "code",
   "execution_count": null,
   "metadata": {},
   "outputs": [],
   "source": [
    "df_stock"
   ]
  },
  {
   "cell_type": "code",
   "execution_count": null,
   "metadata": {},
   "outputs": [],
   "source": [
    "df_stock.ds = df_stock.ds.dt.tz_convert(None)"
   ]
  },
  {
   "cell_type": "code",
   "execution_count": null,
   "metadata": {},
   "outputs": [],
   "source": [
    "df_stock.ds.dt.day_name().value_counts()"
   ]
  },
  {
   "cell_type": "code",
   "execution_count": null,
   "metadata": {},
   "outputs": [],
   "source": []
  },
  {
   "cell_type": "code",
   "execution_count": null,
   "metadata": {},
   "outputs": [],
   "source": [
    "# Python\n",
    "m = Prophet(holidays=holiday_df, growth = 'linear')\n",
    "# m = Prophet(holidays=holiday_df, growth = 'linear')\n",
    "m.fit(df_stock[['ds','y']])"
   ]
  },
  {
   "cell_type": "code",
   "execution_count": null,
   "metadata": {},
   "outputs": [],
   "source": [
    "# Python\n",
    "future = m.make_future_dataframe(periods=100, freq='5min')\n",
    "future.tail()"
   ]
  },
  {
   "cell_type": "markdown",
   "metadata": {},
   "source": [
    "#### Prediction results"
   ]
  },
  {
   "cell_type": "code",
   "execution_count": null,
   "metadata": {},
   "outputs": [],
   "source": [
    "# Python\n",
    "forecast = m.predict(future)\n",
    "forecast[['ds', 'yhat', 'yhat_lower', 'yhat_upper']].tail(100)"
   ]
  },
  {
   "cell_type": "code",
   "execution_count": null,
   "metadata": {},
   "outputs": [],
   "source": [
    "# Python\n",
    "fig1 = m.plot(forecast)"
   ]
  },
  {
   "cell_type": "code",
   "execution_count": null,
   "metadata": {},
   "outputs": [],
   "source": [
    "# Python\n",
    "fig2 = m.plot_components(forecast)"
   ]
  },
  {
   "cell_type": "code",
   "execution_count": null,
   "metadata": {},
   "outputs": [],
   "source": []
  },
  {
   "cell_type": "code",
   "execution_count": null,
   "metadata": {},
   "outputs": [],
   "source": [
    "# Python\n",
    "from prophet.plot import plot_plotly, plot_components_plotly\n",
    "\n",
    "plot_plotly(m, forecast)"
   ]
  },
  {
   "cell_type": "code",
   "execution_count": null,
   "metadata": {},
   "outputs": [],
   "source": [
    "# Python\n",
    "plot_components_plotly(m, forecast)"
   ]
  },
  {
   "cell_type": "code",
   "execution_count": null,
   "metadata": {},
   "outputs": [],
   "source": []
  },
  {
   "cell_type": "code",
   "execution_count": null,
   "metadata": {},
   "outputs": [],
   "source": [
    "top_by_volume = pd.read_csv('top_by_volume.csv')"
   ]
  },
  {
   "cell_type": "code",
   "execution_count": null,
   "metadata": {},
   "outputs": [],
   "source": [
    "top_by_volume.Ticker.values"
   ]
  },
  {
   "cell_type": "code",
   "execution_count": null,
   "metadata": {},
   "outputs": [],
   "source": []
  },
  {
   "cell_type": "code",
   "execution_count": null,
   "metadata": {},
   "outputs": [],
   "source": []
  },
  {
   "cell_type": "code",
   "execution_count": null,
   "metadata": {},
   "outputs": [],
   "source": [
    "# import xgboost as xgb \n",
    "# clf_xgb = xgb.XGBRegressor(objective='reg:squarederror', \n",
    "#                             tree_method = 'gpu_hist',\n",
    "#                             gamma = 0.5,\n",
    "#                            max_depth = 25,\n",
    "#                             seed=42,\n",
    "#                             n_estimators=30)"
   ]
  },
  {
   "cell_type": "code",
   "execution_count": null,
   "metadata": {},
   "outputs": [],
   "source": []
  },
  {
   "cell_type": "code",
   "execution_count": null,
   "metadata": {},
   "outputs": [],
   "source": [
    "# clf_xgb.fit(X_train,\n",
    "#             y_train,\n",
    "#            verbose=True,\n",
    "#             early_stopping_rounds=20,\n",
    "#             eval_metric='rmse',   #aucpr,auc, map\n",
    "#             eval_set=[(X_test,y_test)])"
   ]
  },
  {
   "cell_type": "code",
   "execution_count": null,
   "metadata": {},
   "outputs": [],
   "source": []
  }
 ],
 "metadata": {
  "kernelspec": {
   "display_name": "Python 3.8.8 ('base')",
   "language": "python",
   "name": "python3"
  },
  "language_info": {
   "codemirror_mode": {
    "name": "ipython",
    "version": 3
   },
   "file_extension": ".py",
   "mimetype": "text/x-python",
   "name": "python",
   "nbconvert_exporter": "python",
   "pygments_lexer": "ipython3",
   "version": "3.8.8"
  },
  "orig_nbformat": 4,
  "vscode": {
   "interpreter": {
    "hash": "87f9776d75294b80a9b9f27100dfb5f463cdb55f7148ab5467ceb5b6081f0031"
   }
  }
 },
 "nbformat": 4,
 "nbformat_minor": 2
}
