{
 "cells": [
  {
   "cell_type": "markdown",
   "metadata": {},
   "source": [
    "#### Import libraries & set-up holidays"
   ]
  },
  {
   "cell_type": "code",
   "execution_count": null,
   "metadata": {},
   "outputs": [],
   "source": [
    "import pandas as pd\n",
    "import numpy as np\n",
    "#import tiingo\n",
    "import requests\n",
    "from tqdm import tqdm\n",
    "from pandas.tseries.holiday import USFederalHolidayCalendar as calendar\n",
    "from prophet import Prophet\n",
    "from prophet.plot import plot_plotly, plot_components_plotly\n",
    "\n",
    "\n",
    "\n",
    "## Create holiday calendar\n",
    "cal = calendar()\n",
    "\n",
    "holidays = cal.holidays(start='2000-01-01',\n",
    "                        end='2030-12-30')\n",
    "\n",
    "holiday_df = pd.DataFrame(data=holidays,\n",
    "                          columns = ['date']).assign(holiday='USFederalHoliday')\n",
    "\n",
    "holiday_df.rename(columns={'date':'ds'},inplace=True)\n",
    "#holiday_df.to_csv('us_holidays_until_2030.csv')"
   ]
  },
  {
   "cell_type": "code",
   "execution_count": null,
   "metadata": {},
   "outputs": [],
   "source": [
    "### First we will get the 15min time intervals and calculate the 15min Moving averages (10 perido, 20 period, 50 period)\n",
    "### From the same data we will also calculate the 1d Moving averages (10 period, 20 period, 50 period) and\n",
    "### Append the indicators to the dataframe \n",
    "### Each iteration will run for a single ticker\n",
    "\n",
    "\n",
    "### The data extracts work in 0GMT => Exchange opens at 14:30 and closes at 21:00\n",
    "### Convert this to Sofia/New-York time if needed\n"
   ]
  },
  {
   "cell_type": "markdown",
   "metadata": {},
   "source": [
    "#### Connect to tiingo"
   ]
  },
  {
   "cell_type": "code",
   "execution_count": null,
   "metadata": {},
   "outputs": [],
   "source": [
    "ticker = 'SPY'\n",
    "start_date = '2010-01-01'\n",
    "### The data extracts work in 0GMT => Exchange opens at 14:30 and closes at 21:00\n",
    "### Convert this to Sofia/New-York time if needed\n",
    "\n",
    "#### Connect to tiingo\n",
    "# 15min to # 1h \n",
    "headers = {\n",
    "    'Content-Type': 'application/json'\n",
    "}\n",
    "requestResponse = requests.get(\"https://api.tiingo.com/tiingo/daily/\"+str(ticker)+\"/prices?startDate=\"+str(start_date)+\"&token=0ed744c7db5ef348139953912e2f3cee79f4608b\", headers=headers)\n",
    "#print(requestResponse.json())\n"
   ]
  },
  {
   "cell_type": "code",
   "execution_count": null,
   "metadata": {},
   "outputs": [],
   "source": [
    "df_stock = pd.DataFrame(requestResponse.json()) \n",
    "#df_stock\n",
    "## This gets financial data\n",
    "#requestResponse = requests.get(\"https://api.tiingo.com/tiingo/fundamentals/msft/statements?token=0ed744c7db5ef348139953912e2f3cee79f4608b\", headers=headers)\n",
    "#print(requestResponse.json)\n",
    "requestResponse\n",
    "df_stock = pd.DataFrame(requestResponse.json()) \n",
    "#df_stock\n",
    "df_stock.date = pd.to_datetime(df_stock.date)\n",
    "#df_stock.date.dt.date\n",
    "## Remove the US public holidays\n",
    "df_stock = df_stock[~df_stock.date.dt.date.isin(holiday_df.ds)]\n",
    "#df_stock.dtypes\n",
    "df_stock.rename(columns={\"date\": \"ds\", \"close\": \"y\"},inplace=True)\n",
    "df_stock.ds = df_stock.ds.dt.tz_convert(None)\n",
    "df_stock.ds.dt.day_name().value_counts()"
   ]
  },
  {
   "cell_type": "markdown",
   "metadata": {},
   "source": [
    "#### Prophet"
   ]
  },
  {
   "cell_type": "code",
   "execution_count": null,
   "metadata": {},
   "outputs": [],
   "source": [
    "# Python\n",
    "m = Prophet(holidays=holiday_df, growth = 'linear')\n",
    "# m = Prophet(holidays=holiday_df, growth = 'linear')\n",
    "m.fit(df_stock[['ds','y']])"
   ]
  },
  {
   "cell_type": "code",
   "execution_count": null,
   "metadata": {},
   "outputs": [],
   "source": [
    "# Python\n",
    "# Frequency 5min for minute ones D for daily\n",
    "future = m.make_future_dataframe(periods=100, freq='D')\n",
    "future.tail()"
   ]
  },
  {
   "cell_type": "markdown",
   "metadata": {},
   "source": [
    "#### Prediction results"
   ]
  },
  {
   "cell_type": "code",
   "execution_count": null,
   "metadata": {},
   "outputs": [],
   "source": [
    "# Python\n",
    "forecast = m.predict(future)\n",
    "forecast[['ds', 'yhat', 'yhat_lower', 'yhat_upper']].tail(100)"
   ]
  },
  {
   "cell_type": "code",
   "execution_count": null,
   "metadata": {},
   "outputs": [],
   "source": [
    "# Python\n",
    "fig1 = m.plot(forecast)"
   ]
  },
  {
   "cell_type": "code",
   "execution_count": null,
   "metadata": {},
   "outputs": [],
   "source": [
    "# Python\n",
    "fig2 = m.plot_components(forecast)"
   ]
  },
  {
   "cell_type": "code",
   "execution_count": null,
   "metadata": {},
   "outputs": [],
   "source": []
  },
  {
   "cell_type": "code",
   "execution_count": null,
   "metadata": {},
   "outputs": [],
   "source": [
    "# Python\n",
    "plot_plotly(m, forecast)"
   ]
  },
  {
   "cell_type": "code",
   "execution_count": null,
   "metadata": {},
   "outputs": [],
   "source": [
    "# Python\n",
    "plot_components_plotly(m, forecast)"
   ]
  },
  {
   "cell_type": "markdown",
   "metadata": {},
   "source": [
    "#### Appendix"
   ]
  },
  {
   "cell_type": "code",
   "execution_count": null,
   "metadata": {},
   "outputs": [],
   "source": [
    "# import xgboost as xgb \n",
    "# clf_xgb = xgb.XGBRegressor(objective='reg:squarederror', \n",
    "#                             tree_method = 'gpu_hist',\n",
    "#                             gamma = 0.5,\n",
    "#                            max_depth = 25,\n",
    "#                             seed=42,\n",
    "#                             n_estimators=30)"
   ]
  },
  {
   "cell_type": "code",
   "execution_count": null,
   "metadata": {},
   "outputs": [],
   "source": [
    "# clf_xgb.fit(X_train,\n",
    "#             y_train,\n",
    "#            verbose=True,\n",
    "#             early_stopping_rounds=20,\n",
    "#             eval_metric='rmse',   #aucpr,auc, map\n",
    "#             eval_set=[(X_test,y_test)])"
   ]
  },
  {
   "cell_type": "code",
   "execution_count": null,
   "metadata": {},
   "outputs": [],
   "source": []
  }
 ],
 "metadata": {
  "kernelspec": {
   "display_name": "Python 3.8.8 ('base')",
   "language": "python",
   "name": "python3"
  },
  "language_info": {
   "codemirror_mode": {
    "name": "ipython",
    "version": 3
   },
   "file_extension": ".py",
   "mimetype": "text/x-python",
   "name": "python",
   "nbconvert_exporter": "python",
   "pygments_lexer": "ipython3",
   "version": "3.8.8"
  },
  "orig_nbformat": 4,
  "vscode": {
   "interpreter": {
    "hash": "87f9776d75294b80a9b9f27100dfb5f463cdb55f7148ab5467ceb5b6081f0031"
   }
  }
 },
 "nbformat": 4,
 "nbformat_minor": 2
}
