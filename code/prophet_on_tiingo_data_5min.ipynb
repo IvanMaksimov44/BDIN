{
 "cells": [
  {
   "cell_type": "markdown",
   "metadata": {},
   "source": [
    "#### Import libraries & set-up holidays"
   ]
  },
  {
   "cell_type": "code",
   "execution_count": null,
   "metadata": {},
   "outputs": [],
   "source": [
    "import pandas as pd\n",
    "import numpy as np\n",
    "#import tiingo\n",
    "import requests\n",
    "from tqdm import tqdm\n",
    "from pandas.tseries.holiday import USFederalHolidayCalendar as calendar\n",
    "from prophet import Prophet\n",
    "from prophet.plot import plot_plotly, plot_components_plotly\n",
    "\n",
    "\n",
    "\n",
    "## Create holiday calendar\n",
    "cal = calendar()\n",
    "\n",
    "holidays = cal.holidays(start='2000-01-01',\n",
    "                        end='2030-12-30')\n",
    "\n",
    "holiday_df = pd.DataFrame(data=holidays,\n",
    "                          columns = ['date']).assign(holiday='USFederalHoliday')\n",
    "\n",
    "holiday_df.rename(columns={'date':'ds'},inplace=True)\n",
    "#holiday_df.to_csv('us_holidays_until_2030.csv')"
   ]
  },
  {
   "cell_type": "code",
   "execution_count": null,
   "metadata": {},
   "outputs": [],
   "source": [
    "## The full data for the 5 minute chart is 120k rows starting from late 2016, it takes 5 minutes to train the prophet model and a minute to make the forecast"
   ]
  },
  {
   "cell_type": "markdown",
   "metadata": {},
   "source": [
    "#### Connect to tiingo"
   ]
  },
  {
   "cell_type": "code",
   "execution_count": null,
   "metadata": {},
   "outputs": [],
   "source": [
    "# 15min to # 1h \n",
    "headers = {\n",
    "    'Content-Type': 'application/json'\n",
    "}\n",
    "requestResponse = requests.get(\"https://api.tiingo.com/iex/SPY/prices?startDate=2015-01-02&endDate=2022-12-31&resampleFreq=5min&columns=open,high,low,close,volume&token=0ed744c7db5ef348139953912e2f3cee79f4608b\", headers=headers)\n",
    "#print(requestResponse.json())"
   ]
  },
  {
   "cell_type": "code",
   "execution_count": null,
   "metadata": {},
   "outputs": [],
   "source": [
    "## The earliest Tiingo 5 min data starts from 2016-12-01 \n",
    "ticker = 'SPY'\n",
    "tiingo_time_interval = '5min'\n",
    "## Tiingo time intervals accepted = 5min, 15min, 30min, 1hour, 4hour\n",
    "\n",
    "\n",
    "# Generate month_start and month end to use for looping over and getting data month by month\n",
    "month_start_date  = pd.date_range(start='12/1/2016', end='12/1/2022', freq='MS').strftime('%Y-%m-%d')\n",
    "month_end_date  = pd.date_range(start='12/1/2016', end='12/31/2022', freq='M').strftime('%Y-%m-%d')\n",
    "print(\"the size of the monthly data is \" + str(month_end_date.size))\n",
    "\n",
    "\n",
    "# Below loop gets data for each month on a given interval level for a given ticker\n",
    "\n",
    "total_df = pd.DataFrame()\n",
    "for x in tqdm(range(month_start_date.size)):\n",
    "    month_start = month_start_date[x]\n",
    "    month_end  = month_end_date[x]\n",
    "    requestResponse = requests.get(\"https://api.tiingo.com/iex/\"+str(ticker)+\"/prices?startDate=\"+str(month_start)+\"&endDate=\"+str(month_end)+\"&resampleFreq=\"+str(tiingo_time_interval)+\"&columns=open,high,low,close,volume&token=0ed744c7db5ef348139953912e2f3cee79f4608b\", headers=headers)\n",
    "    #print(x) \n",
    "    #print(\"https://api.tiingo.com/iex/SPY/prices?startDate=\"+str(month_start)+\"&endDate=\"+str(month_end)+\"&resampleFreq=5min&columns=open,high,low,close,volume&token=0ed744c7db5ef348139953912e2f3cee79f4608b\") \n",
    "    df_stock = pd.DataFrame(requestResponse.json()) \n",
    "\n",
    "    total_df = total_df.append(df_stock)\n",
    "\n",
    "print('Data download done for the ticker '+str(ticker)+' with a earliest date ' +str(total_df.date.min())+' and latest date '+str(total_df.date.max()))\n",
    "total_df.to_csv('spy_5_min_all_data.csv')"
   ]
  },
  {
   "cell_type": "code",
   "execution_count": null,
   "metadata": {},
   "outputs": [],
   "source": [
    "df_stock = total_df\n",
    "df_stock.date = pd.to_datetime(df_stock.date)\n",
    "\n",
    "## Remove the US public holidays\n",
    "df_stock = df_stock[~df_stock.date.dt.date.isin(holiday_df.ds)]\n",
    "df_stock.dtypes"
   ]
  },
  {
   "cell_type": "code",
   "execution_count": null,
   "metadata": {},
   "outputs": [],
   "source": [
    "df_stock.rename(columns={\"date\": \"ds\", \"close\": \"y\"},inplace=True)\n",
    "df_stock.ds = df_stock.ds.dt.tz_convert(None)\n",
    "df_stock.ds.dt.day_name().value_counts()"
   ]
  },
  {
   "cell_type": "code",
   "execution_count": null,
   "metadata": {},
   "outputs": [],
   "source": [
    "print(df_stock.shape)\n",
    "df_stock.ds.dt.hour.value_counts()\n",
    "mask = np.logical_and(df_stock.ds.dt.hour >= 13,\n",
    "                      df_stock.ds.dt.hour <= 20)\n",
    "df_stock = df_stock[mask]\n",
    "df_stock = df_stock.sort_values('ds',  ascending=True)\n",
    "df_stock.reset_index(drop=True,inplace=True)\n",
    "print(df_stock.shape)"
   ]
  },
  {
   "cell_type": "code",
   "execution_count": null,
   "metadata": {},
   "outputs": [],
   "source": [
    "df_stock"
   ]
  },
  {
   "cell_type": "markdown",
   "metadata": {},
   "source": [
    "#### Prophet"
   ]
  },
  {
   "cell_type": "code",
   "execution_count": null,
   "metadata": {},
   "outputs": [],
   "source": [
    "# Python\n",
    "m = Prophet(holidays=holiday_df, growth = 'linear')\n",
    "# m = Prophet(holidays=holiday_df, growth = 'linear')\n",
    "m.fit(df_stock[['ds','y']])"
   ]
  },
  {
   "cell_type": "code",
   "execution_count": null,
   "metadata": {},
   "outputs": [],
   "source": [
    "# Python\n",
    "future = m.make_future_dataframe(periods=2000,freq=\"5min\")\n",
    "future.tail()"
   ]
  },
  {
   "cell_type": "code",
   "execution_count": null,
   "metadata": {},
   "outputs": [],
   "source": []
  },
  {
   "cell_type": "code",
   "execution_count": null,
   "metadata": {},
   "outputs": [],
   "source": [
    "mask = np.logical_and(future.ds.dt.hour >= 13,\n",
    "                      future.ds.dt.hour <= 20)\n",
    "future = future[mask]\n",
    "future = future.sort_values('ds',  ascending=True)\n",
    "future.reset_index(drop=True,inplace=True)\n",
    "future.shape"
   ]
  },
  {
   "cell_type": "code",
   "execution_count": null,
   "metadata": {},
   "outputs": [],
   "source": []
  },
  {
   "cell_type": "markdown",
   "metadata": {},
   "source": [
    "#### Prediction results"
   ]
  },
  {
   "cell_type": "code",
   "execution_count": null,
   "metadata": {},
   "outputs": [],
   "source": [
    "# Python\n",
    "forecast = m.predict(future)\n",
    "forecast[['ds', 'yhat', 'yhat_lower', 'yhat_upper']].tail(100)"
   ]
  },
  {
   "cell_type": "code",
   "execution_count": null,
   "metadata": {},
   "outputs": [],
   "source": [
    "forecast[['ds', 'yhat', 'yhat_lower', 'yhat_upper']].tail(500)"
   ]
  },
  {
   "cell_type": "code",
   "execution_count": null,
   "metadata": {},
   "outputs": [],
   "source": [
    "# Python\n",
    "fig1 = m.plot(forecast)"
   ]
  },
  {
   "cell_type": "code",
   "execution_count": null,
   "metadata": {},
   "outputs": [],
   "source": [
    "# Python\n",
    "fig2 = m.plot_components(forecast)"
   ]
  },
  {
   "cell_type": "code",
   "execution_count": null,
   "metadata": {},
   "outputs": [],
   "source": []
  },
  {
   "cell_type": "code",
   "execution_count": null,
   "metadata": {},
   "outputs": [],
   "source": [
    "# Python\n",
    "plot_plotly(m, forecast)"
   ]
  },
  {
   "cell_type": "code",
   "execution_count": null,
   "metadata": {},
   "outputs": [],
   "source": [
    "# Python\n",
    "plot_components_plotly(m, forecast)"
   ]
  },
  {
   "cell_type": "code",
   "execution_count": null,
   "metadata": {},
   "outputs": [],
   "source": []
  },
  {
   "cell_type": "markdown",
   "metadata": {},
   "source": [
    "#### Appendix"
   ]
  },
  {
   "cell_type": "code",
   "execution_count": null,
   "metadata": {},
   "outputs": [],
   "source": [
    "#### Test the earleist data available for give ticker\n",
    "\n",
    "# ticker = 'SPY'\n",
    "\n",
    "# x = 77\n",
    "\n",
    "\n",
    "# # Generate month_start and month end to use for looping over and getting data month by month\n",
    "# month_start_date  = pd.date_range(start='12/1/2010', end='12/1/2022', freq='MS').strftime('%Y-%m-%d')\n",
    "# month_end_date  = pd.date_range(start='12/1/2010', end='12/31/2022', freq='M').strftime('%Y-%m-%d')\n",
    "# print(\"the size of the monthly data is \" + str(month_end_date.size))\n",
    "\n",
    "\n",
    "# month_start = month_start_date[x]\n",
    "# month_end = month_start_date[x]\n",
    "\n",
    "# print(month_start_date[x])\n",
    "\n",
    "\n",
    "# requestResponse = requests.get(\"https://api.tiingo.com/iex/\"+str(ticker)+\"/prices?startDate=\"+str(month_start)+\"&endDate=\"+str(month_end)+\"&resampleFreq=15min&columns=open,high,low,close,volume&token=0ed744c7db5ef348139953912e2f3cee79f4608b\", headers=headers)\n",
    "# print(x) \n",
    "# #print(\"https://api.tiingo.com/iex/SPY/prices?startDate=\"+str(month_start)+\"&endDate=\"+str(month_end)+\"&resampleFreq=5min&columns=open,high,low,close,volume&token=0ed744c7db5ef348139953912e2f3cee79f4608b\") \n",
    "# df_stock = pd.DataFrame(requestResponse.json()) \n",
    "# df_stock\n"
   ]
  },
  {
   "cell_type": "code",
   "execution_count": null,
   "metadata": {},
   "outputs": [],
   "source": []
  },
  {
   "cell_type": "code",
   "execution_count": null,
   "metadata": {},
   "outputs": [],
   "source": []
  },
  {
   "cell_type": "code",
   "execution_count": null,
   "metadata": {},
   "outputs": [],
   "source": [
    "# import xgboost as xgb \n",
    "# clf_xgb = xgb.XGBRegressor(objective='reg:squarederror', \n",
    "#                             tree_method = 'gpu_hist',\n",
    "#                             gamma = 0.5,\n",
    "#                            max_depth = 25,\n",
    "#                             seed=42,\n",
    "#                             n_estimators=30)"
   ]
  },
  {
   "cell_type": "code",
   "execution_count": null,
   "metadata": {},
   "outputs": [],
   "source": []
  },
  {
   "cell_type": "code",
   "execution_count": null,
   "metadata": {},
   "outputs": [],
   "source": [
    "# clf_xgb.fit(X_train,\n",
    "#             y_train,\n",
    "#            verbose=True,\n",
    "#             early_stopping_rounds=20,\n",
    "#             eval_metric='rmse',   #aucpr,auc, map\n",
    "#             eval_set=[(X_test,y_test)])"
   ]
  },
  {
   "cell_type": "code",
   "execution_count": null,
   "metadata": {},
   "outputs": [],
   "source": []
  }
 ],
 "metadata": {
  "kernelspec": {
   "display_name": "Python 3.8.8 ('base')",
   "language": "python",
   "name": "python3"
  },
  "language_info": {
   "codemirror_mode": {
    "name": "ipython",
    "version": 3
   },
   "file_extension": ".py",
   "mimetype": "text/x-python",
   "name": "python",
   "nbconvert_exporter": "python",
   "pygments_lexer": "ipython3",
   "version": "3.8.8"
  },
  "orig_nbformat": 4,
  "vscode": {
   "interpreter": {
    "hash": "87f9776d75294b80a9b9f27100dfb5f463cdb55f7148ab5467ceb5b6081f0031"
   }
  }
 },
 "nbformat": 4,
 "nbformat_minor": 2
}
